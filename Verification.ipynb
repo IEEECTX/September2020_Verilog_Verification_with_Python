{
 "cells": [
  {
   "cell_type": "markdown",
   "metadata": {},
   "source": [
    "# Verilog HDL Verification Using Python\n",
    "\n",
    "We have a fun tutorial this month. It is a simple adder design and verification using Verilog HDL using Python. We will generate input testvectors and verify the simulation results using Python. Main outline of the tutorial is shown in Figure 1 below. \n",
    "\n",
    "<img src=\"io.png\" alt=\"Drawing\" style=\"width: 500px;\"/>\n",
    "<div align=\"center\">\n",
    "  Figure 1. Python Based Automated Verification System\n",
    "</div>\n",
    "\n",
    "The DUT is a simple adder. It calculates A + B = Z where both A and B are 16 bits and output Z is 17 bits. The ```adder.v``` is shown below. \n",
    "\n",
    "```verilog\n",
    "// DUT\n",
    "// adder.v\n",
    "module add(A,B,Z);\n",
    "parameter N = 16;\n",
    "input [N-1:0] A,B;\n",
    "output [N:0] Z;\n",
    "\n",
    "assign Z = A+B;\n",
    "\n",
    "endmodule\n",
    "```\n",
    "The testbench is shown below. Code explaination will be done during a video tutorial. Please check the link. \n",
    "\n",
    "```\n",
    "// Testbench\n",
    "// test_file.v\n",
    "`include \"add.v\"\n",
    "\n",
    "module test_file;\n",
    "parameter i =1;   \n",
    "integer read_file,write_file,value_r;\n",
    "reg clk;\n",
    "reg [15:0] A;\n",
    "reg [15:0] B;\n",
    "wire [16:0] Sum; \n",
    "\n",
    "add aa1(A,B,Sum);\n",
    "\n",
    "initial begin\n",
    "    clk = 1;\n",
    "    A = 0;\n",
    "    B = 0;\n",
    "    read_file  = $fopen(\"in_vec.txt\",\"r\");\n",
    "    write_file = $fopen(\"out_vec.txt\",\"w\");\n",
    "end\n",
    "\n",
    "always # 1 clk = ~clk;\n",
    "\n",
    "initial begin\n",
    "     @ (posedge clk);\n",
    "    while (!$feof(read_file)) \n",
    "    begin\n",
    "      @ (posedge clk);\n",
    "      value_r = $fscanf(read_file,\"%h %h\\n\",A,B);\n",
    "    end\n",
    "     @ (posedge clk);\n",
    "    $fclose(read_file);\n",
    "    $fclose(write_file);\n",
    "    #1 $finish;\n",
    "end\n",
    "\n",
    "always @ (negedge clk)\n",
    " begin\n",
    "$fwrite(write_file,\"%0d %0d %0d\\n\",A,B,Sum);\n",
    " end\n",
    "\n",
    "initial $monitor($time, \" %d + %d = %d\",A,B,Sum);\n",
    "/*\n",
    "initial  \n",
    "begin\n",
    "    $fdisplay(write_file, \"\\nNew addition :%d\\n\", i);\n",
    "    $fdisplay(write_file, \"_____________________________\\n\");\n",
    "end\n",
    "*/\n",
    "endmodule\n",
    "```\n"
   ]
  },
  {
   "cell_type": "markdown",
   "metadata": {},
   "source": [
    "## Testvector Generator\n",
    "\n",
    "Now we can generate our testvector file ```in_vec.txt``` based on user input paramaters. Please see comment lines for explanation for each line.  "
   ]
  },
  {
   "cell_type": "code",
   "execution_count": 4,
   "metadata": {},
   "outputs": [
    {
     "name": "stdin",
     "output_type": "stream",
     "text": [
      "Enter input bit size (default 16):  16\n",
      "Enter number of testvector:  12\n",
      "Enter number inputs:  2\n"
     ]
    }
   ],
   "source": [
    "import numpy as np # import numpy library\n",
    "n=int(input(\"Enter input bit size (default 16): \")) # ask user number of bits\n",
    "N=int(input(\"Enter number of testvector: \")) # ask user number of testvectors\n",
    "k=int(input(\"Enter number inputs: \")) # ask user number of inputs. Our adder has 2 (A and B)\n",
    "test_vectors = np.uint32(2**n*np.random.rand(N,k)) # this will generate (N,k) numpy array "
   ]
  },
  {
   "cell_type": "code",
   "execution_count": 5,
   "metadata": {},
   "outputs": [],
   "source": [
    "# now we can save our array into a file (in_vec.txt). This file will contains \n",
    "# A and B inputs. These are 16-bit hext numbers and separated by space\n",
    "# we can also create A and B separate files \n",
    "\n",
    "np.savetxt('in_vec.txt', test_vectors, delimiter=' ',fmt=\"%.4X\") "
   ]
  },
  {
   "cell_type": "markdown",
   "metadata": {},
   "source": [
    "I am using a Mac computer and will compile and simulate the Verilog code using ```Iverilog```.  We can run command line code in Jupyter using ```exclamation mark``` front of the code. if you do not see the terminal display in here please comment out ```initial $monitor($time, \" %d + %d = %d\",A,B,Sum);```\n",
    "The code below will compile and simulate the testbench and generate ```out_vec.txt``` file that contains ```A``` , ```B``` and ```Sum``` values. Now we can open this file in Python and see if calculations are correct. "
   ]
  },
  {
   "cell_type": "code",
   "execution_count": 8,
   "metadata": {},
   "outputs": [
    {
     "name": "stdout",
     "output_type": "stream",
     "text": [
      "WARNING: test_file.v:40: invalid file descriptor/MCD (0x80000004) given to $fwrite.\n"
     ]
    }
   ],
   "source": [
    "!iverilog test_file.v\n",
    "!vvp a.out"
   ]
  },
  {
   "cell_type": "markdown",
   "metadata": {},
   "source": [
    "## Verification \n",
    "\n",
    "Now we can open the ```out_vec.txt``` file using ```Pandas``` library by skipping the two rows (due to assign zero values in the beginning of simulation). "
   ]
  },
  {
   "cell_type": "code",
   "execution_count": 9,
   "metadata": {},
   "outputs": [
    {
     "data": {
      "text/html": [
       "<div>\n",
       "<style scoped>\n",
       "    .dataframe tbody tr th:only-of-type {\n",
       "        vertical-align: middle;\n",
       "    }\n",
       "\n",
       "    .dataframe tbody tr th {\n",
       "        vertical-align: top;\n",
       "    }\n",
       "\n",
       "    .dataframe thead th {\n",
       "        text-align: right;\n",
       "    }\n",
       "</style>\n",
       "<table border=\"1\" class=\"dataframe\">\n",
       "  <thead>\n",
       "    <tr style=\"text-align: right;\">\n",
       "      <th></th>\n",
       "      <th>0</th>\n",
       "      <th>1</th>\n",
       "      <th>2</th>\n",
       "    </tr>\n",
       "  </thead>\n",
       "  <tbody>\n",
       "    <tr>\n",
       "      <th>0</th>\n",
       "      <td>26445</td>\n",
       "      <td>16509</td>\n",
       "      <td>42954</td>\n",
       "    </tr>\n",
       "    <tr>\n",
       "      <th>1</th>\n",
       "      <td>23999</td>\n",
       "      <td>50583</td>\n",
       "      <td>74582</td>\n",
       "    </tr>\n",
       "    <tr>\n",
       "      <th>2</th>\n",
       "      <td>36346</td>\n",
       "      <td>59233</td>\n",
       "      <td>95579</td>\n",
       "    </tr>\n",
       "    <tr>\n",
       "      <th>3</th>\n",
       "      <td>55353</td>\n",
       "      <td>7397</td>\n",
       "      <td>62750</td>\n",
       "    </tr>\n",
       "    <tr>\n",
       "      <th>4</th>\n",
       "      <td>47307</td>\n",
       "      <td>15292</td>\n",
       "      <td>62599</td>\n",
       "    </tr>\n",
       "    <tr>\n",
       "      <th>5</th>\n",
       "      <td>3874</td>\n",
       "      <td>277</td>\n",
       "      <td>4151</td>\n",
       "    </tr>\n",
       "    <tr>\n",
       "      <th>6</th>\n",
       "      <td>27697</td>\n",
       "      <td>37784</td>\n",
       "      <td>65481</td>\n",
       "    </tr>\n",
       "    <tr>\n",
       "      <th>7</th>\n",
       "      <td>20875</td>\n",
       "      <td>30266</td>\n",
       "      <td>51141</td>\n",
       "    </tr>\n",
       "    <tr>\n",
       "      <th>8</th>\n",
       "      <td>37860</td>\n",
       "      <td>16763</td>\n",
       "      <td>54623</td>\n",
       "    </tr>\n",
       "    <tr>\n",
       "      <th>9</th>\n",
       "      <td>60515</td>\n",
       "      <td>21595</td>\n",
       "      <td>82110</td>\n",
       "    </tr>\n",
       "    <tr>\n",
       "      <th>10</th>\n",
       "      <td>33856</td>\n",
       "      <td>38617</td>\n",
       "      <td>72473</td>\n",
       "    </tr>\n",
       "    <tr>\n",
       "      <th>11</th>\n",
       "      <td>6117</td>\n",
       "      <td>21771</td>\n",
       "      <td>27888</td>\n",
       "    </tr>\n",
       "  </tbody>\n",
       "</table>\n",
       "</div>"
      ],
      "text/plain": [
       "        0      1      2\n",
       "0   26445  16509  42954\n",
       "1   23999  50583  74582\n",
       "2   36346  59233  95579\n",
       "3   55353   7397  62750\n",
       "4   47307  15292  62599\n",
       "5    3874    277   4151\n",
       "6   27697  37784  65481\n",
       "7   20875  30266  51141\n",
       "8   37860  16763  54623\n",
       "9   60515  21595  82110\n",
       "10  33856  38617  72473\n",
       "11   6117  21771  27888"
      ]
     },
     "execution_count": 9,
     "metadata": {},
     "output_type": "execute_result"
    }
   ],
   "source": [
    "import pandas as pd\n",
    "AA=pd.read_csv(\"out_vec.txt\",delimiter=' ',header=None,skiprows=2)\n",
    "AA"
   ]
  },
  {
   "cell_type": "code",
   "execution_count": 10,
   "metadata": {},
   "outputs": [],
   "source": [
    "Values=AA.values # This will get the three column numpy array"
   ]
  },
  {
   "cell_type": "code",
   "execution_count": 12,
   "metadata": {},
   "outputs": [],
   "source": [
    "Values"
   ]
  },
  {
   "cell_type": "code",
   "execution_count": 13,
   "metadata": {},
   "outputs": [],
   "source": [
    "A=Values[:,0] # A vector values\n",
    "B=Values[:,1] # B vector values\n",
    "Out=Values[:,2] # Sum vector values\n",
    "N=np.arange(0,A.size) # size of the vector (this is the same as number of testvectors N)"
   ]
  },
  {
   "cell_type": "code",
   "execution_count": 14,
   "metadata": {},
   "outputs": [
    {
     "data": {
      "image/png": "[encoded data removed]",
      "text/plain": [
       "<Figure size 432x288 with 1 Axes>"
      ]
     },
     "metadata": {
      "needs_background": "light"
     },
     "output_type": "display_data"
    }
   ],
   "source": [
    "# Now we want to see if A+B equals to Sum\n",
    "# We will use matplotlib library to plot abs(A+B-Sum). All values should be zero\n",
    "\n",
    "import matplotlib.pyplot as plt\n",
    "test=abs(A+B-Out);\n",
    "plt.plot(N,test)\n",
    "plt.show()"
   ]
  },
  {
   "cell_type": "markdown",
   "metadata": {},
   "source": [
    "Now we can see how many of the testvectors passed and how many of them failed. "
   ]
  },
  {
   "cell_type": "code",
   "execution_count": 15,
   "metadata": {},
   "outputs": [
    {
     "name": "stdout",
     "output_type": "stream",
     "text": [
      "Total number of testvectors \t: 12\n",
      "Total number of passes \t\t: 12\n",
      "Total number of fails \t\t: 0\n",
      "Error (%) \t\t\t: %0.0\n"
     ]
    }
   ],
   "source": [
    "k=0;\n",
    "j=0;\n",
    "for i in (test):\n",
    "    if (i<1e-16):\n",
    "        #print('Passed')\n",
    "        k=k+1\n",
    "    else:\n",
    "        #print(\"Failed\")\n",
    "        j=j+1\n",
    "print(f\"Total number of testvectors \\t: {len(test)}\")\n",
    "print(f\"Total number of passes \\t\\t: {k}\")\n",
    "print(f\"Total number of fails \\t\\t: {j}\")\n",
    "print(f\"Error (%) \\t\\t\\t: %{100*j/(j+k)}\")"
   ]
  },
  {
   "cell_type": "code",
   "execution_count": null,
   "metadata": {},
   "outputs": [],
   "source": []
  }
 ],
 "metadata": {
  "kernelspec": {
   "display_name": "Python 3",
   "language": "python",
   "name": "python3"
  },
  "language_info": {
   "codemirror_mode": {
    "name": "ipython",
    "version": 3
   },
   "file_extension": ".py",
   "mimetype": "text/x-python",
   "name": "python",
   "nbconvert_exporter": "python",
   "pygments_lexer": "ipython3",
   "version": "3.7.6"
  }
 },
 "nbformat": 4,
 "nbformat_minor": 4
}
